{
 "cells": [
  {
   "cell_type": "markdown",
   "id": "8347e028",
   "metadata": {},
   "source": [
    "# Suomi24 Corpus: Yearly Evolution of Hate and Friendly Speech\n",
    "\n",
    "This notebook loads message data from PostgreSQL, aggregates yearly counts for hate speech (Query 1), friendly speech (Query 2), and both, and visualizes the results."
   ]
  },
  {
   "cell_type": "code",
   "execution_count": null,
   "id": "3b85e6c6",
   "metadata": {},
   "outputs": [],
   "source": [
    "# Import required libraries\n",
    "import pandas as pd\n",
    "import matplotlib.pyplot as plt\n",
    "from sqlalchemy import create_engine\n",
    "import os"
   ]
  },
  {
   "cell_type": "code",
   "execution_count": null,
   "id": "7a334a29",
   "metadata": {},
   "outputs": [],
   "source": [
    "# Connect to PostgreSQL using SQLAlchemy and load data into pandas DataFrame\n",
    "db_user = os.environ.get(\"POSTGRES_USER\", \"postgres\")\n",
    "db_password = os.environ.get(\"POSTGRES_PASSWORD\", \"secret\")\n",
    "db_host = \"localhost\"\n",
    "db_port = os.environ.get(\"POSTGRES_PORT\", 5432)\n",
    "db_name = os.environ.get(\"POSTGRES_DB\", \"suomi24\")\n",
    "\n",
    "# Create SQLAlchemy engine\n",
    "engine = create_engine(f\"postgresql://{db_user}:{db_password}@{db_host}:{db_port}/{db_name}\")\n",
    "\n",
    "query = \"\"\"\n",
    "SELECT date, query_type, content FROM messages\n",
    "WHERE date IS NOT NULL\n",
    "\"\"\"\n",
    "df = pd.read_sql(query, engine)\n",
    "\n",
    "df['year'] = pd.to_datetime(df['date']).dt.year"
   ]
  },
  {
   "cell_type": "code",
   "execution_count": null,
   "id": "de7cc46a",
   "metadata": {},
   "outputs": [],
   "source": [
    "# Aggregate yearly counts for each query type\n",
    "agg = df.groupby(['year', 'query_type']).size().unstack(fill_value=0)\n",
    "agg['both'] = agg.get('both', 0)\n",
    "agg['hate'] = agg.get('hate', 0)\n",
    "agg['friendly'] = agg.get('friendly', 0)\n",
    "agg = agg[['hate', 'friendly', 'both']]\n",
    "agg"
   ]
  },
  {
   "cell_type": "code",
   "execution_count": null,
   "id": "ea93240c",
   "metadata": {},
   "outputs": [],
   "source": [
    "plt.figure(figsize=(12,6))\n",
    "agg.plot(kind='line', marker='o', ax=plt.gca())\n",
    "plt.title('Yearly Evolution of Hate, Friendly, and Both Speech in Suomi24')\n",
    "plt.xlabel('Year')\n",
    "plt.ylabel('Number of Messages')\n",
    "plt.grid(True)\n",
    "plt.legend(title='Query Type')\n",
    "plt.xlim(2001, 2017)\n",
    "plt.xticks(range(2001, 2018))\n",
    "plt.tight_layout()\n",
    "plt.show()"
   ]
  },
  {
   "cell_type": "code",
   "execution_count": null,
   "id": "3c0e589a",
   "metadata": {},
   "outputs": [],
   "source": [
    "\n",
    "df['token_count'] = df['content'].str.split().apply(len)\n",
    "df_filtered = df[df['query_type'].isin(['hate', 'friendly'])]\n",
    "avg_tokens = df_filtered.groupby(['year', 'query_type'])['token_count'].mean().unstack(fill_value=0)\n",
    "avg_tokens"
   ]
  },
  {
   "cell_type": "code",
   "execution_count": null,
   "id": "57f96c70",
   "metadata": {},
   "outputs": [],
   "source": [
    "plt.figure(figsize=(12,6))\n",
    "avg_tokens.plot(kind='line', marker='o', ax=plt.gca())\n",
    "plt.title('Yearly Evolution of Average Message Size  (Tokens) in Suomi24')\n",
    "plt.xlabel('Year')\n",
    "plt.ylabel('Average Token Count')\n",
    "plt.grid(True)\n",
    "plt.legend(title='Query Type')\n",
    "plt.xlim(2001, 2017)\n",
    "plt.xticks(range(2001, 2018))\n",
    "plt.tight_layout()\n",
    "plt.show()"
   ]
  }
 ],
 "metadata": {
  "kernelspec": {
   "display_name": "Python 3",
   "language": "python",
   "name": "python3"
  },
  "language_info": {
   "codemirror_mode": {
    "name": "ipython",
    "version": 3
   },
   "file_extension": ".py",
   "mimetype": "text/x-python",
   "name": "python",
   "nbconvert_exporter": "python",
   "pygments_lexer": "ipython3",
   "version": "3.11.0"
  }
 },
 "nbformat": 4,
 "nbformat_minor": 5
}
